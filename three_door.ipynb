{
 "cells": [
  {
   "cell_type": "markdown",
   "metadata": {},
   "source": [
    "Three door problem\n",
    "===="
   ]
  },
  {
   "cell_type": "markdown",
   "metadata": {},
   "source": [
    "Background\n",
    "----\n",
    ">**Bayesian Formula**<br>\n",
    "We denote $P(A)$ as the possibility of the occurence of independent issue A;$P(AB)$ as the possibility of the occurence of both A and B;$P(A|B)$ as the possibility of the occurence of A with the condtion of B."
   ]
  },
  {
   "cell_type": "markdown",
   "metadata": {},
   "source": [
    "$$P(A|B)=\\frac{P(B|A)P(A)}{P(B)}$$"
   ]
  },
  {
   "cell_type": "markdown",
   "metadata": {},
   "source": [
    ">**Full probability formula**<br>\n",
    "$$P(A)=\\sum_{i}P(A|B_i)P(B_i)$$"
   ]
  },
  {
   "cell_type": "markdown",
   "metadata": {},
   "source": [
    ">The TV show held a lottery that anyone who can guess the right door behind which was a brand new car could own it. There were three doors and behind the other two doors were two goats. After the participant made their first choice, the host would open one of the remaining doors. Behind this door, there was a goat. The participant had a chance to change his original choice or just keep it. So the problem is what should we do make our profit maximized?"
   ]
  },
  {
   "cell_type": "markdown",
   "metadata": {},
   "source": [
    ">Let's make some notations first. Assume that there are a,b,c 3 doors."
   ]
  },
  {
   "cell_type": "markdown",
   "metadata": {},
   "source": [
    ">* A = the car is just behind the door a;<br>\n",
    "* B = the car is just behind the door b;<br>\n",
    "* C = the car is just behind the door c;<br>\n",
    "* PartA = the participant originally choose door a;<br>\n",
    "* PartB = the participant originally choose door b;<br>\n",
    "* PartC = the participant originally choose door c;<br>\n",
    "* OpenA = the host open the door a;<br>\n",
    "* OpenB = the host open the door b;<br>\n",
    "* OpenC = the host open the door c;<br>\n",
    "* P(A) = the possibility of A;<br> \n",
    "* P(B) = the possibility of B;<br>\n",
    "* P(C) = the possibility of C"
   ]
  },
  {
   "cell_type": "markdown",
   "metadata": {},
   "source": [
    ">There is a obvious conclusion. $$P(A)=P(B)=P(C)=\\frac{1}{3}$$"
   ]
  },
  {
   "cell_type": "markdown",
   "metadata": {},
   "source": [
    ">Suppose the participant has chosen the door a. At this time, the possibility that he can eventually get the car is just $\\frac{1}{3}$. And the host has opened the door b and shows us it only has a goat. Now we need to know if the participant changes to choose door c now, will the possibility  of getting the car become larger?"
   ]
  },
  {
   "cell_type": "markdown",
   "metadata": {},
   "source": [
    ">So what we actually want to know is the possibility of C when we have the condition that the player first chooses door a and the host opens the door b. Notice that we don't know which door the car hides behind. So we need to calculate the conditional probility $P(C|PartA, OpenB)$."
   ]
  },
  {
   "cell_type": "markdown",
   "metadata": {},
   "source": [
    ">From Bayesian Formula, we know that\n",
    "$$P(C|PartA, OpenB)=\\frac{P(PartA, OpenB|C)P(C)}{P(PartA, OpenB)}$$"
   ]
  },
  {
   "cell_type": "markdown",
   "metadata": {},
   "source": [
    ">$P(PartA, OpenB|C)$ is the possibility that we originally choose door a and host opens the door b for us when the car is definitely hidden behind door c. If car is definitely behind door c, when we first choose door a, the host must open the door b. So $P(PartA, OpenB|C)=1$."
   ]
  },
  {
   "cell_type": "markdown",
   "metadata": {},
   "source": [
    ">When calculating $P(PartA, OpenB)$, we need to think about all the three probability: car is behind door a; car is behind door b;car is behind door c. "
   ]
  },
  {
   "cell_type": "markdown",
   "metadata": {},
   "source": [
    ">* if car is behind door a, then $$P(PartA, OpenB|A)=\\frac{1}{2}$$ Since the car is behind the door a and the participant has chosen door a, the host  will open one of the remaining doors randomly. <br>\n",
    "* if car is behind door b, then $$P(PartA, OpenB|B)=0$$ Since the car is behind the door b, the host won't open door b at all.<br>\n",
    "* if car is behind door c, then $$P(PartA, OpenB|C)=1$$ Since the car is behind the door c and the participant has chosen door a, the host has no choice but opens door b."
   ]
  },
  {
   "cell_type": "markdown",
   "metadata": {},
   "source": [
    ">According to Full probabilty formula we can have"
   ]
  },
  {
   "cell_type": "markdown",
   "metadata": {},
   "source": [
    "$$\n",
    "\\begin{split}\n",
    "P(PartA, OpenB)&=P(PartA, OpenB|A)P(A)+P(PartA, OpenB|B)P(B)+P(PartA, OpenB|C)P(C) \\\\\n",
    "&=\\frac{1}{2}\\times\\frac{1}{3}+0\\times\\frac{1}{3}+1\\times\\frac{1}{3} \\\\\n",
    "&=\\frac{1}{2}\n",
    "\\end{split}\n",
    "$$"
   ]
  },
  {
   "cell_type": "markdown",
   "metadata": {},
   "source": [
    ">Finally we can get the result."
   ]
  },
  {
   "cell_type": "markdown",
   "metadata": {},
   "source": [
    "$$P(C|PartA, OpenB)=\\frac{1\\times\\frac{1}{3}}{\\frac{1}{2}}=\\frac{2}{3}$$"
   ]
  },
  {
   "cell_type": "markdown",
   "metadata": {},
   "source": [
    ">OK. Our first choice give us the possibility of $\\frac{1}{3}$ to gain the car while if we change to door c we'll have the possibility of $\\frac{2}{3}$ to win the car. So the conclusion is just changing the door."
   ]
  },
  {
   "cell_type": "markdown",
   "metadata": {},
   "source": [
    ">Now we will use program to simulate 10000 different situations to test our conclusion."
   ]
  },
  {
   "cell_type": "code",
   "execution_count": 24,
   "metadata": {
    "collapsed": false
   },
   "outputs": [
    {
     "name": "stdout",
     "output_type": "stream",
     "text": [
      "0 epoches..\n",
      "1000 epoches..\n",
      "2000 epoches..\n",
      "3000 epoches..\n",
      "4000 epoches..\n",
      "5000 epoches..\n",
      "6000 epoches..\n",
      "7000 epoches..\n",
      "8000 epoches..\n",
      "9000 epoches..\n",
      "After 10000 times test, we have the conclusion:\n",
      "If everyone keeps their original choice, there are 3275 people who can win the car.\n",
      "Winning rate is 32.75%\n",
      "If everyone changes to the rest door, there are 6725 people who can win the car.\n",
      "Winning rate is 67.25%\n"
     ]
    }
   ],
   "source": [
    "import numpy as np\n",
    "\n",
    "cg_win = 0\n",
    "kp_win = 0\n",
    "\n",
    "for i in range(10000):\n",
    "    \n",
    "    if i % 1000 == 0:\n",
    "        print('%d epoches..' % i)\n",
    "    \n",
    "    doors = list(range(3))\n",
    "    # the variable car shows which door it hides.  e.g. car=0 means it's behind door a\n",
    "    car = np.random.choice(3)\n",
    "    #print('car is in the %s' % car)\n",
    "    # the variable player means which door the player chooses at first.\n",
    "    player = np.random.choice(3)\n",
    "    #print('Player choose %s' % player)\n",
    "    \n",
    "    remains = doors[:player] + doors[player+1:]\n",
    "    #print('remain is {}'.format(remains))\n",
    "    # the variable left means the last door after dropping the wrong door\n",
    "    if car in remains:\n",
    "        left = car\n",
    "    else:\n",
    "        left = np.random.choice(remains)\n",
    "        \n",
    "    #print('left is %s' % left)\n",
    "    if car == player:\n",
    "        kp_win += 1\n",
    "        \n",
    "    if left == car:\n",
    "        cg_win += 1\n",
    "        \n",
    "        \n",
    "print('After 10000 times test, we have the conclusion:')\n",
    "print('If everyone keeps their original choice, there are %d people who can win the car.' % kp_win)\n",
    "print('Winning rate is {}%'.format(kp_win / 100))\n",
    "print('If everyone changes to the rest door, there are %d people who can win the car.' % cg_win)\n",
    "print('Winning rate is {}%'.format(cg_win / 100))"
   ]
  }
 ],
 "metadata": {
  "anaconda-cloud": {},
  "kernelspec": {
   "display_name": "Python [conda root]",
   "language": "python",
   "name": "conda-root-py"
  },
  "language_info": {
   "codemirror_mode": {
    "name": "ipython",
    "version": 3
   },
   "file_extension": ".py",
   "mimetype": "text/x-python",
   "name": "python",
   "nbconvert_exporter": "python",
   "pygments_lexer": "ipython3",
   "version": "3.5.2"
  }
 },
 "nbformat": 4,
 "nbformat_minor": 1
}
